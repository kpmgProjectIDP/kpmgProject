{
 "cells": [
  {
   "cell_type": "code",
   "execution_count": 1,
   "metadata": {},
   "outputs": [],
   "source": [
    "import pandas as pd\n",
    "import os\n",
    "import re"
   ]
  },
  {
   "cell_type": "code",
   "execution_count": 2,
   "metadata": {},
   "outputs": [],
   "source": [
    "df_mega_Data = pd.read_csv('/Becode-projects/KPMG/CLA_meta_from_2018.csv')"
   ]
  },
  {
   "cell_type": "code",
   "execution_count": 3,
   "metadata": {},
   "outputs": [],
   "source": [
    "# add two new columns to the dataframe\n",
    "df_mega_Data['text_nl'] = ''\n",
    "df_mega_Data['text_fr'] = ''"
   ]
  },
  {
   "cell_type": "code",
   "execution_count": null,
   "metadata": {},
   "outputs": [],
   "source": [
    "df_mega_Data.head()"
   ]
  },
  {
   "cell_type": "code",
   "execution_count": null,
   "metadata": {},
   "outputs": [],
   "source": [
    "\n",
    "root_path = ('fr_txt/')\n",
    "# loop through all files in root_path\n",
    "for filename in os.listdir(root_path):\n",
    "    # split filename to get name without extension\n",
    "    name = filename.split('.')[0]\n",
    "    name_without_fr = name[:len(name)-2]\n",
    "    # remove extension from filename in the dataframe['filename'],so it could match with file in root_path\n",
    "    for r in df_mega_Data['filename']:\n",
    "        r1 = r.replace('.pdf', '')\n",
    "        \n",
    "        # read each file and add text to df_mega_Data['text_fr']\n",
    "        if name_without_fr == r1:\n",
    "            with open(root_path + filename, 'r', encoding='utf8') as file:\n",
    "                text = file.read()\n",
    "                for i in range(len(df_mega_Data['text_fr'])):\n",
    "                    if name_without_fr[i] == r1[i]:\n",
    "                        df_mega_Data['text_fr'][i] = text\n"
   ]
  },
  {
   "cell_type": "code",
   "execution_count": 96,
   "metadata": {},
   "outputs": [],
   "source": [
    "df_mega_Data.to_csv('with_text.csv')"
   ]
  }
 ],
 "metadata": {
  "kernelspec": {
   "display_name": "base",
   "language": "python",
   "name": "python3"
  },
  "language_info": {
   "codemirror_mode": {
    "name": "ipython",
    "version": 3
   },
   "file_extension": ".py",
   "mimetype": "text/x-python",
   "name": "python",
   "nbconvert_exporter": "python",
   "pygments_lexer": "ipython3",
   "version": "3.9.12"
  },
  "orig_nbformat": 4,
  "vscode": {
   "interpreter": {
    "hash": "4c5fecb72096018fff2bef66cc69bd0e3a5732631898296c325d9ee69525bccd"
   }
  }
 },
 "nbformat": 4,
 "nbformat_minor": 2
}
