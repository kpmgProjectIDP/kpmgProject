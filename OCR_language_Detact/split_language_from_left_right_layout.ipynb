{
 "cells": [
  {
   "cell_type": "code",
   "execution_count": 1,
   "metadata": {},
   "outputs": [],
   "source": [
    "from pdfminer.high_level import extract_text\n",
    "from pathlib import Path\n",
    "from langdetect import detect\n",
    "from langdetect import detect_langs\n",
    "import glob, os\n",
    "from pdfrw import PdfReader, PdfWriter, PageMerge\n",
    "import pytesseract\n",
    "from pdf2image import convert_from_path\n",
    "import base64\n",
    "import numpy as np\n",
    "from PIL import Image"
   ]
  },
  {
   "cell_type": "code",
   "execution_count": 4,
   "metadata": {},
   "outputs": [],
   "source": []
  },
  {
   "cell_type": "code",
   "execution_count": 6,
   "metadata": {},
   "outputs": [],
   "source": [
    "directory = 'D:/Becode-projects/KPMG/wetransfer_a_2022-12-09_1528'\n",
    "def splitpage(src):\n",
    "    \"\"\"Split a page into two (left and right)\"\"\"\n",
    "    for x_pos in (0, 0.5):\n",
    "        yield PageMerge().add(src, viewrect=(x_pos, 0, 0.5, 1)).render()\n",
    "\n",
    "split = 0\n",
    "for dir in os.listdir(directory):\n",
    "    \n",
    "    for pc in os.listdir(f\"{directory}/{dir}\"):\n",
    "            for document in os.listdir(f\"{directory}/{dir}/{pc}\"):\n",
    "                text = extract_text(f\"{directory}/{dir}/{pc}/{document}\")\n",
    "                text = text.splitlines()\n",
    "                if len(max(text, key=len)) < 70:\n",
    "                    writer = PdfWriter()\n",
    "                    page_number = 0\n",
    "                    for page in PdfReader(f\"{directory}/{dir}/{pc}/{document}\").pages:\n",
    "                        writer.addpages(splitpage(page))\n",
    "                    writer.write(f\"split/{document}\")\n",
    "                    split += 1"
   ]
  },
  {
   "cell_type": "code",
   "execution_count": null,
   "metadata": {},
   "outputs": [],
   "source": [
    "directory = 'D:/Becode-projects/KPMG/wetransfer_b_2022-12-09_1647'\n",
    "\n",
    "def splitpage(src):\n",
    "    \"\"\"Split a page into two (left and right)\"\"\"\n",
    "    # Yield a result for each half of the page\n",
    "    for x_pos in (0, 0.5):\n",
    "        yield PageMerge().add(src, viewrect=(x_pos, 0, 0.5, 1)).render()\n",
    "\n",
    "split = 0\n",
    "for dir in os.listdir(directory):\n",
    "    \n",
    "    for pc in os.listdir(f\"{directory}/{dir}\"):\n",
    "            for document in os.listdir(f\"{directory}/{dir}/{pc}\"):\n",
    "                text = extract_text(f\"{directory}/{dir}/{pc}/{document}\")\n",
    "                text = text.splitlines()\n",
    "                if len(max(text, key=len)) < 70:\n",
    "                    writer = PdfWriter()\n",
    "                    page_number = 0\n",
    "                    for page in PdfReader(f\"{directory}/{dir}/{pc}/{document}\").pages:\n",
    "                        writer.addpages(splitpage(page))\n",
    "                    writer.write(f\"split/{document}\")\n",
    "                    split += 1"
   ]
  },
  {
   "cell_type": "code",
   "execution_count": 5,
   "metadata": {},
   "outputs": [],
   "source": [
    "directory1 = 'split'"
   ]
  },
  {
   "cell_type": "code",
   "execution_count": 6,
   "metadata": {},
   "outputs": [],
   "source": [
    "# merge odd numbered pdf pages\n",
    "\n",
    "# os.mkdir(\"odd\")\n",
    "\n",
    "for document in os.listdir(f\"{directory1}\"):\n",
    "    if document.endswith(\".pdf\"):\n",
    "        writer = PdfWriter()\n",
    "        page_number = 0\n",
    "        for page in PdfReader(f\"{directory1}/{document}\").pages:\n",
    "            if page_number % 2 == 0:\n",
    "                writer.addpage(page)\n",
    "            page_number += 1\n",
    "        writer.write(f\"odd/{document}\")\n"
   ]
  },
  {
   "cell_type": "code",
   "execution_count": 8,
   "metadata": {},
   "outputs": [],
   "source": [
    "# merge even numbered pdf pages\n",
    "\n",
    "os.mkdir(\"even\")\n",
    "\n",
    "for document in os.listdir(f\"{directory1}\"):\n",
    "    if document.endswith(\".pdf\"):\n",
    "        writer = PdfWriter()\n",
    "        page_number = 0\n",
    "        for page in PdfReader(f\"{directory1}/{document}\").pages:\n",
    "            if page_number % 2 == 1:\n",
    "                writer.addpage(page)\n",
    "            page_number += 1\n",
    "        writer.write(f\"even/{document}\")"
   ]
  }
 ],
 "metadata": {
  "kernelspec": {
   "display_name": "base",
   "language": "python",
   "name": "python3"
  },
  "language_info": {
   "codemirror_mode": {
    "name": "ipython",
    "version": 3
   },
   "file_extension": ".py",
   "mimetype": "text/x-python",
   "name": "python",
   "nbconvert_exporter": "python",
   "pygments_lexer": "ipython3",
   "version": "3.9.12 (main, Apr  4 2022, 05:22:27) [MSC v.1916 64 bit (AMD64)]"
  },
  "orig_nbformat": 4,
  "vscode": {
   "interpreter": {
    "hash": "4c5fecb72096018fff2bef66cc69bd0e3a5732631898296c325d9ee69525bccd"
   }
  }
 },
 "nbformat": 4,
 "nbformat_minor": 2
}
