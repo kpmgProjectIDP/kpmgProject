{
 "cells": [
  {
   "cell_type": "code",
   "execution_count": 7,
   "metadata": {},
   "outputs": [],
   "source": [
    "from pdfminer.high_level import extract_text\n",
    "from pathlib import Path\n",
    "from langdetect import detect\n",
    "from langdetect import detect_langs\n",
    "import glob, os\n",
    "from pdfrw import PdfReader, PdfWriter, PageMerge\n",
    "from PyPDF2 import PdfFileReader, PdfFileWriter"
   ]
  },
  {
   "cell_type": "code",
   "execution_count": null,
   "metadata": {},
   "outputs": [],
   "source": [
    "rootdir = ('D:/Becode-projects/KPMG/wetransfer_a_2022-12-09_1528/A/**')\n",
    "for filename in glob.iglob(rootdir, recursive=True):\n",
    "    if os.path.isfile(filename): # filter dirs\n",
    "        # text = extract_text(filename)\n",
    "        # text = text.splitlines()\n",
    "        text = PyPDF2.PdfFileReader(filename).getPage(0).extractText()\n",
    "        text = text.splitlines()\n",
    "\n",
    "        for i in range(len(text)):\n",
    "            line = text[i]\n",
    "            if detect(line) == 'nl':\n",
    "                # print(line, filename)\n",
    "                split_pdf = PdfFileWriter()\n",
    "                \n",
    "\n",
    "        \n",
    "            \n",
    "                # while detect(line[0]) == 'fr':\n",
    "                #     print(filename)\n",
    "            \n",
    "            \n",
    "    "
   ]
  }
 ],
 "metadata": {
  "kernelspec": {
   "display_name": "base",
   "language": "python",
   "name": "python3"
  },
  "language_info": {
   "codemirror_mode": {
    "name": "ipython",
    "version": 3
   },
   "file_extension": ".py",
   "mimetype": "text/x-python",
   "name": "python",
   "nbconvert_exporter": "python",
   "pygments_lexer": "ipython3",
   "version": "3.9.12 (main, Apr  4 2022, 05:22:27) [MSC v.1916 64 bit (AMD64)]"
  },
  "orig_nbformat": 4,
  "vscode": {
   "interpreter": {
    "hash": "4c5fecb72096018fff2bef66cc69bd0e3a5732631898296c325d9ee69525bccd"
   }
  }
 },
 "nbformat": 4,
 "nbformat_minor": 2
}
