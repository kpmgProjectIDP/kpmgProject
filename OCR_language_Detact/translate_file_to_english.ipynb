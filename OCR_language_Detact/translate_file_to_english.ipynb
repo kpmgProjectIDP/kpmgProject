{
 "cells": [
  {
   "cell_type": "code",
   "execution_count": 81,
   "metadata": {},
   "outputs": [],
   "source": [
    "import googletrans\n",
    "from googletrans import Translator\n",
    "import glob, os\n",
    "from pdfminer.high_level import extract_text\n",
    "import PyPDF2\n",
    "import re"
   ]
  },
  {
   "cell_type": "code",
   "execution_count": 82,
   "metadata": {},
   "outputs": [],
   "source": [
    "translator = Translator()"
   ]
  },
  {
   "cell_type": "code",
   "execution_count": 83,
   "metadata": {},
   "outputs": [],
   "source": [
    "\n",
    "rootdir = ('D:/Becode-projects/KPMG/kpmgProject/OCR_language_Detact/fr_txt')\n",
    "# loop each file in the folder\n",
    "for filename in os.listdir(rootdir):\n",
    "    if filename.endswith(\".txt\"):\n",
    "        text_path = rootdir + \"/\" + filename\n",
    "        # open the file and read the text\n",
    "        with open(text_path, 'r', encoding='utf8') as f:\n",
    "            text = f.read()\n",
    "            # translate the text\n",
    "            result = translator.translate(text, dest='en')\n",
    "            # save the translated text\n",
    "            with open(filename, 'w', encoding='utf8') as f:\n",
    "                f.write(result.text)\n",
    "            \n",
    "\n"
   ]
  },
  {
   "cell_type": "code",
   "execution_count": null,
   "metadata": {},
   "outputs": [],
   "source": [
    "rootdir = ('D:/Becode-projects/KPMG/kpmgProject/OCR_language_Detact/nl_txt')\n",
    "\n",
    "for filename in os.listdir(rootdir):\n",
    "    if filename.endswith(\".txt\"):\n",
    "        text_path = rootdir + \"/\" + filename\n",
    "        with open(text_path, 'r', encoding='utf8') as f:\n",
    "            text = f.read()\n",
    "            result = translator.translate(text, dest='en')\n",
    "            with open(filename, 'w', encoding='utf8') as f:\n",
    "                f.write(result.text)"
   ]
  }
 ],
 "metadata": {
  "kernelspec": {
   "display_name": "base",
   "language": "python",
   "name": "python3"
  },
  "language_info": {
   "codemirror_mode": {
    "name": "ipython",
    "version": 3
   },
   "file_extension": ".py",
   "mimetype": "text/x-python",
   "name": "python",
   "nbconvert_exporter": "python",
   "pygments_lexer": "ipython3",
   "version": "3.9.12 (main, Apr  4 2022, 05:22:27) [MSC v.1916 64 bit (AMD64)]"
  },
  "orig_nbformat": 4,
  "vscode": {
   "interpreter": {
    "hash": "4c5fecb72096018fff2bef66cc69bd0e3a5732631898296c325d9ee69525bccd"
   }
  }
 },
 "nbformat": 4,
 "nbformat_minor": 2
}
