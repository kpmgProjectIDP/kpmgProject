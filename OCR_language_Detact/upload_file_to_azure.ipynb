{
 "cells": [
  {
   "cell_type": "code",
   "execution_count": null,
   "metadata": {},
   "outputs": [],
   "source": [
    "from azure.storage.blob import BlobServiceClient"
   ]
  },
  {
   "cell_type": "code",
   "execution_count": null,
   "metadata": {},
   "outputs": [],
   "source": [
    "\n",
    "storage_account_key = \"YglLHtJxmf3/CTPj49pwpo0IjEjZNT9CcUfRuKq/jleb7hFn8Xsrgtw+RElDOfWC54HaqPD4dvcx+AStLQS58A==\"\n",
    "storage_account_name = \"yayaz\"\n",
    "container_name = \"newcontainer\"\n",
    "connection_string = \"DefaultEndpointsProtocol=https;AccountName=yayaz;AccountKey=jsCW1SeJdc3/DJaZbavbGJ6PSsD2UhJOJnu6BQmC3Rgnqu+V+UX93J492hdjHM9ICfwUSTPtXNFy+AStIoit8g==;EndpointSuffix=core.windows.net\"\n",
    "\n",
    "def upload_to_blob_storage(file_path, blob_name):\n",
    "    blob_service_client = BlobServiceClient.from_connection_string(connection_string)\n",
    "    blob_client = blob_service_client.get_blob_client(container=container_name, blob=blob_name)\n",
    "    with open(file_path, \"rb\") as data:\n",
    "        blob_client.upload_blob(data)\n",
    "    print(\"upload complete\" + blob_name + \"file\")"
   ]
  }
 ],
 "metadata": {
  "kernelspec": {
   "display_name": "base",
   "language": "python",
   "name": "python3"
  },
  "language_info": {
   "codemirror_mode": {
    "name": "ipython",
    "version": 3
   },
   "file_extension": ".py",
   "mimetype": "text/x-python",
   "name": "python",
   "nbconvert_exporter": "python",
   "pygments_lexer": "ipython3",
   "version": "3.9.12 (main, Apr  4 2022, 05:22:27) [MSC v.1916 64 bit (AMD64)]"
  },
  "orig_nbformat": 4,
  "vscode": {
   "interpreter": {
    "hash": "4c5fecb72096018fff2bef66cc69bd0e3a5732631898296c325d9ee69525bccd"
   }
  }
 },
 "nbformat": 4,
 "nbformat_minor": 2
}
