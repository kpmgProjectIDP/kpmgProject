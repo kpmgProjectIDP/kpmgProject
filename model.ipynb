{
 "cells": [
  {
   "cell_type": "code",
   "execution_count": 2,
   "metadata": {},
   "outputs": [],
   "source": [
    "def model(file_id):\n",
    "    label = \"modified\"\n",
    "    summary = \"This is a summary\"\n",
    "    return label, summary\n",
    "\n",
    "\n",
    "label, summary = model(\"100-2022.pdf\")"
   ]
  }
 ],
 "metadata": {
  "kernelspec": {
   "display_name": "Python 3.7.15 ('tf')",
   "language": "python",
   "name": "python3"
  },
  "language_info": {
   "codemirror_mode": {
    "name": "ipython",
    "version": 3
   },
   "file_extension": ".py",
   "mimetype": "text/x-python",
   "name": "python",
   "nbconvert_exporter": "python",
   "pygments_lexer": "ipython3",
   "version": "3.7.15"
  },
  "orig_nbformat": 4,
  "vscode": {
   "interpreter": {
    "hash": "438f9425c82de225d59cb1ea813815e7ad05ed69c1193e63d884457a3de26ed9"
   }
  }
 },
 "nbformat": 4,
 "nbformat_minor": 2
}
