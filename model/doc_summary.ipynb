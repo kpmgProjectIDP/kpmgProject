{
 "cells": [
  {
   "cell_type": "code",
   "execution_count": 92,
   "metadata": {},
   "outputs": [],
   "source": [
    "# importing the libraries\n",
    "import pandas as pd\n",
    "import os\n",
    "import re\n",
    "import spacy\n",
    "from spacy.lang.en.stop_words import STOP_WORDS\n",
    "from string import punctuation\n",
    "from collections import Counter\n",
    "from heapq import nlargest\n",
    "from heapq import nlargest    \n",
    "nlp = spacy.load(\"nl_core_news_sm\")\n"
   ]
  },
  {
   "cell_type": "code",
   "execution_count": 93,
   "metadata": {},
   "outputs": [],
   "source": [
    "\n",
    "def summarize_doc():\n",
    "    \n",
    "    \"\"\"summarize the content of the document\n",
    "    \"\"\"\n",
    "    mypath = r\"D:\\Arai4_Projects\\kpmgProject\\data\\nl_txt\"\n",
    "    myfiles = os.listdir(mypath)\n",
    "    stopwords = list(STOP_WORDS) # Build a List of Stopwords\n",
    "    list_summary = []\n",
    "    count =0\n",
    "\n",
    "    for filename in os.listdir(mypath):\n",
    "        if filename.endswith(\".txt\"):\n",
    "            count = count+1\n",
    "            text_path = mypath + \"/\" + filename\n",
    "            with open(text_path, 'r', encoding='utf8') as f:   # open the file and read the text\n",
    "                text = f.read()\n",
    "                docx = nlp(text)   # Build an NLP Object\n",
    "                \n",
    "                mytokens = [token.text for token in docx]   # Tokenization of Text\n",
    "                word_frequencies = {}   # Build Word Frequency\n",
    "                for word in docx:\n",
    "                    if word.text not in stopwords:\n",
    "                            if word.text not in word_frequencies.keys():\n",
    "                                word_frequencies[word.text] = 1\n",
    "                            else:\n",
    "                                word_frequencies[word.text] += 1\n",
    "                maximum_frequency = max(word_frequencies.values())  # Maximum Word Frequency\n",
    "                for word in word_frequencies.keys():  \n",
    "                    word_frequencies[word] = (word_frequencies[word]/maximum_frequency)\n",
    "            \n",
    "                sentence_list = [ sentence for sentence in docx.sents ]  # Sentence Tokens\n",
    "                sentence_scores = {}   # Sentence Score via comparrng each word with sentence\n",
    "                for sent in sentence_list:  \n",
    "                        for word in sent:\n",
    "                            if word.text.lower() in word_frequencies.keys():\n",
    "                                if len(sent.text.split(' ')) < 30:\n",
    "                                    if sent not in sentence_scores.keys():\n",
    "                                        sentence_scores[sent] = word_frequencies[word.text.lower()]\n",
    "                                    else:\n",
    "                                        sentence_scores[sent] += word_frequencies[word.text.lower()]\n",
    "                # Sentence Score Table\n",
    "                sentence_scores \n",
    "                summarized_sentences = nlargest(7, sentence_scores, key=sentence_scores.get)\n",
    "                summarized_sentences      \n",
    "                final_sentences = [ w.text for w in summarized_sentences ] \n",
    "                summary = ' '.join(final_sentences)\n",
    "            \n",
    "                list_summary.append({'filename':re.split('_',filename)[0] + '.pdf', 'summary':summary})\n",
    "                \n",
    "    return list_summary"
   ]
  },
  {
   "cell_type": "code",
   "execution_count": 91,
   "metadata": {},
   "outputs": [],
   "source": [
    "def merge_column():\n",
    "    \"\"\"merge the summary column to main dataframe\n",
    "    \"\"\"\n",
    "    df = pd.read_csv(r\"D:\\Arai4_Projects\\kpmgProject\\data\\B\\metadata_with_fr_nl_info.csv\")\n",
    "    \n",
    "    df_summary = pd.DataFrame(summarize_doc())\n",
    "    df_merged = pd.merge(df, df_summary, on = 'filename')\n",
    "    df_merged.to_csv(\"D:\\Arai4_Projects\\kpmgProject\\data\\B\\metadata_with_fr_nl_info_summary.csv\", index = False, header = True )\n",
    "\n",
    "    return df_merged\n",
    "\n",
    "df = merge_column()"
   ]
  }
 ],
 "metadata": {
  "kernelspec": {
   "display_name": "Python 3.7.15 ('kpmg_env')",
   "language": "python",
   "name": "python3"
  },
  "language_info": {
   "codemirror_mode": {
    "name": "ipython",
    "version": 3
   },
   "file_extension": ".py",
   "mimetype": "text/x-python",
   "name": "python",
   "nbconvert_exporter": "python",
   "pygments_lexer": "ipython3",
   "version": "3.7.15"
  },
  "orig_nbformat": 4,
  "vscode": {
   "interpreter": {
    "hash": "58b824ef02c014b9ba1f746a54d1cb2c20560832d80e4defb13e5bf446787b0e"
   }
  }
 },
 "nbformat": 4,
 "nbformat_minor": 2
}
