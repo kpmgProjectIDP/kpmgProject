{
 "cells": [
  {
   "cell_type": "code",
   "execution_count": 45,
   "metadata": {},
   "outputs": [],
   "source": [
    "# importing libraries\n",
    "import pandas as pd\n",
    "import numpy as np\n",
    "from sklearn.pipeline import Pipeline\n",
    "from sklearn.feature_extraction.text import CountVectorizer\n",
    "from sklearn.svm import LinearSVC\n",
    "from sklearn.feature_extraction.text import TfidfTransformer\n",
    "from sklearn.multiclass import OneVsRestClassifier\n",
    "from sklearn.preprocessing import MultiLabelBinarizer\n",
    "from sklearn.multioutput import MultiOutputClassifier\n",
    "from sklearn.model_selection import train_test_split\n",
    "from sklearn.utils import resample\n",
    "import joblib"
   ]
  },
  {
   "cell_type": "code",
   "execution_count": 46,
   "metadata": {},
   "outputs": [],
   "source": [
    "def preprocesses():\n",
    "    \"\"\"preprocesses the data:\n",
    "    parameter:\n",
    "    return :\n",
    "    \"\"\"\n",
    "    df = pd.read_csv(r\"D:\\Arai4_Projects\\kpmgProject\\data\\B\\metadata_with_fr_nl_info.csv\")\n",
    "    df = df[['text_nl','label']] # selecting feature and target for modeling\n",
    "    df = df.astype(str)\n",
    "    df = df.dropna()\n",
    "    \n",
    "    return df\n",
    "    \n",
    "    \n"
   ]
  },
  {
   "cell_type": "code",
   "execution_count": 47,
   "metadata": {},
   "outputs": [],
   "source": [
    "\n",
    "def balance_sample_down(df):\n",
    "    \"\"\"downsample the data\n",
    "     \n",
    "    \"\"\"\n",
    "    \n",
    "    # Separate majority and minority classes\n",
    "    df_majority = df[df.label == \"new\"]\n",
    "    df_minority = df[df.label == \"modified\"]\n",
    "    \n",
    " \n",
    "    #downsample majority class\n",
    "    df_majority_downsampled = resample(df_majority, \n",
    "                                 replace=False,     # sample with replacement\n",
    "                                 n_samples = 257,    # to match majority class\n",
    "                                 random_state =123) # reproducible results\n",
    " \n",
    "    # Combine majority class with upsampled minority class\n",
    "    df_downsampled = pd.concat([df_majority_downsampled, df_minority])\n",
    " \n",
    "    # Display new class counts\n",
    "    print(\"Down sampled: \", df_downsampled.label.value_counts())\n",
    "\n",
    "    y = df_downsampled.label\n",
    "    X = df_downsampled['text_nl'].to_list()\n",
    "    \n",
    "\n",
    "    return X, y"
   ]
  },
  {
   "cell_type": "code",
   "execution_count": 48,
   "metadata": {},
   "outputs": [
    {
     "name": "stdout",
     "output_type": "stream",
     "text": [
      "Down sampled:  modified    913\n",
      "new         257\n",
      "Name: label, dtype: int64\n"
     ]
    }
   ],
   "source": [
    "def classifier_model():\n",
    "    \"\"\"classifier \n",
    "    \"\"\"\n",
    "    df = preprocesses()\n",
    "    X,y = balance_sample_down(df)\n",
    "    X_train, X_test, Y_train, Y_test = train_test_split(X,y,test_size=1/5,random_state=42) \n",
    "    \n",
    "    # conveting to desired array fromat\n",
    "    y_train =Y_train.to_numpy()\n",
    "    y_train =np.reshape(y_train, (-1, 1))\n",
    "    y_test = Y_test.to_numpy()\n",
    "    y_test = np.reshape(y_test,(-1, 1))\n",
    "    \n",
    "\n",
    "    mlb_1 = MultiLabelBinarizer()\n",
    "    y_train = mlb_1.fit_transform(y_train)\n",
    "    y_test = mlb_1.fit_transform(y_test)\n",
    "\n",
    "    \n",
    "\n",
    "    classifier = Pipeline([\n",
    "         ('vectorizer', CountVectorizer()),\n",
    "         ('tfidf', TfidfTransformer()),\n",
    "         ('clf', MultiOutputClassifier(OneVsRestClassifier(LinearSVC())))])\n",
    "\n",
    "    classifier.fit(X_train, y_train)\n",
    "    predicted = classifier.predict(X_test)\n",
    "    joblib.dump(classifier, 'label.pkl')\n",
    "    all_labels = mlb_1.inverse_transform(predicted)\n",
    "\n",
    "\n",
    "classifier_model()\n",
    "    "
   ]
  },
  {
   "cell_type": "code",
   "execution_count": 79,
   "metadata": {},
   "outputs": [
    {
     "data": {
      "text/plain": [
       "'modified'"
      ]
     },
     "execution_count": 79,
     "metadata": {},
     "output_type": "execute_result"
    }
   ],
   "source": [
    "def label_text(deposit):\n",
    "    df = pd.read_csv(r\"D:\\Arai4_Projects\\kpmgProject\\data\\B\\metadata_with_fr_nl_info_summary.csv\")\n",
    "    df = df.set_index('deposit_number')\n",
    "    text_data = df['text_nl'][deposit]\n",
    "    prediction =joblib.load('label.pkl').predict([text_data]).flat[0]\n",
    "\n",
    "    if prediction == 0:\n",
    "        label = 'modified'\n",
    "    elif prediction == 1:\n",
    "        label = 'new'\n",
    "    else:\n",
    "        label = '--'\n",
    "    return label\n",
    "\n",
    "label_text(170873)"
   ]
  }
 ],
 "metadata": {
  "kernelspec": {
   "display_name": "Python 3.7.15 ('kpmg_env')",
   "language": "python",
   "name": "python3"
  },
  "language_info": {
   "codemirror_mode": {
    "name": "ipython",
    "version": 3
   },
   "file_extension": ".py",
   "mimetype": "text/x-python",
   "name": "python",
   "nbconvert_exporter": "python",
   "pygments_lexer": "ipython3",
   "version": "3.7.15"
  },
  "orig_nbformat": 4,
  "vscode": {
   "interpreter": {
    "hash": "58b824ef02c014b9ba1f746a54d1cb2c20560832d80e4defb13e5bf446787b0e"
   }
  }
 },
 "nbformat": 4,
 "nbformat_minor": 2
}
