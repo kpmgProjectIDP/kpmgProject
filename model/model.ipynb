{
 "cells": [
  {
   "cell_type": "code",
   "execution_count": 45,
   "metadata": {},
   "outputs": [],
   "source": [
    "# importing libraries\n",
    "import pandas as pd\n",
    "import numpy as np\n",
    "from sklearn.pipeline import Pipeline\n",
    "from sklearn.feature_extraction.text import CountVectorizer\n",
    "from sklearn.svm import LinearSVC\n",
    "from sklearn.feature_extraction.text import TfidfTransformer\n",
    "from sklearn.multiclass import OneVsRestClassifier\n",
    "from sklearn.preprocessing import MultiLabelBinarizer\n",
    "from sklearn.multioutput import MultiOutputClassifier\n",
    "from sklearn.model_selection import train_test_split\n",
    "from sklearn.utils import resample\n",
    "import joblib"
   ]
  },
  {
   "cell_type": "code",
   "execution_count": 46,
   "metadata": {},
   "outputs": [],
   "source": [
    "def preprocesses():\n",
    "    \"\"\"preprocesses the data:\n",
    "    parameter:\n",
    "    return :\n",
    "    \"\"\"\n",
    "    df = pd.read_csv(r\"D:\\Arai4_Projects\\kpmgProject\\data\\B\\metadata_with_fr_nl_info.csv\")\n",
    "    #df = pd.read_csv('/data/B/metadata_with_fr_nl_info.csv')\n",
    "    df = df[['text_nl','label']] # selecting feature and target for modeling\n",
    "    df = df.astype(str)\n",
    "    df = df.dropna()\n",
    "    \n",
    "    return df\n",
    "    \n",
    "    \n"
   ]
  },
  {
   "cell_type": "code",
   "execution_count": 47,
   "metadata": {},
   "outputs": [],
   "source": [
    "\n",
    "def balance_sample_down(df):\n",
    "    \"\"\"downsample the data\n",
    "     \n",
    "    \"\"\"\n",
    "    \n",
    "    # Separate majority and minority classes\n",
    "    df_majority = df[df.label == \"new\"]\n",
    "    df_minority = df[df.label == \"modified\"]\n",
    "    \n",
    " \n",
    "    #downsample majority class\n",
    "    df_majority_downsampled = resample(df_majority, \n",
    "                                 replace=False,     # sample with replacement\n",
    "                                 n_samples = 257,    # to match majority class\n",
    "                                 random_state =123) # reproducible results\n",
    " \n",
    "    # Combine majority class with upsampled minority class\n",
    "    df_downsampled = pd.concat([df_majority_downsampled, df_minority])\n",
    " \n",
    "    # Display new class counts\n",
    "    print(\"Down sampled: \", df_downsampled.label.value_counts())\n",
    "\n",
    "    y = df_downsampled.label\n",
    "    X = df_downsampled['text_nl'].to_list()\n",
    "    \n",
    "\n",
    "    return X, y"
   ]
  },
  {
   "cell_type": "code",
   "execution_count": 48,
   "metadata": {},
   "outputs": [
    {
     "name": "stdout",
     "output_type": "stream",
     "text": [
      "Down sampled:  modified    913\n",
      "new         257\n",
      "Name: label, dtype: int64\n"
     ]
    }
   ],
   "source": [
    "def classifier_model():\n",
    "    \"\"\"classifier \n",
    "    \"\"\"\n",
    "    df = preprocesses()\n",
    "    X,y = balance_sample_down(df)\n",
    "    X_train, X_test, Y_train, Y_test = train_test_split(X,y,test_size=1/5,random_state=42) \n",
    "    \n",
    "    # conveting to desired array fromat\n",
    "    y_train =Y_train.to_numpy()\n",
    "    y_train =np.reshape(y_train, (-1, 1))\n",
    "    y_test = Y_test.to_numpy()\n",
    "    y_test = np.reshape(y_test,(-1, 1))\n",
    "    \n",
    "\n",
    "    mlb_1 = MultiLabelBinarizer()\n",
    "    y_train = mlb_1.fit_transform(y_train)\n",
    "    y_test = mlb_1.fit_transform(y_test)\n",
    "    # print(Y_1)\n",
    "    # print(X_train)\n",
    "\n",
    "    classifier = Pipeline([\n",
    "         ('vectorizer', CountVectorizer()),\n",
    "         ('tfidf', TfidfTransformer()),\n",
    "         ('clf', MultiOutputClassifier(OneVsRestClassifier(LinearSVC())))])\n",
    "\n",
    "    classifier.fit(X_train, y_train)\n",
    "    predicted = classifier.predict(X_test)\n",
    "    joblib.dump(classifier, 'label.pkl')\n",
    "    #print(\"score\", classifier.score(predicted,y_test))\n",
    "    all_labels = mlb_1.inverse_transform(predicted)\n",
    "\n",
    "#     print('text classifier:')\n",
    "#     for item, labels in zip(X_test, all_labels):\n",
    "#          print('{0} => {1}'.format(item, ', '.join(labels)))\n",
    "\n",
    "\n",
    "\n",
    "\n",
    "classifier_model()\n",
    "    "
   ]
  },
  {
   "cell_type": "code",
   "execution_count": 49,
   "metadata": {},
   "outputs": [],
   "source": [
    "txt = \"\"\" --------------Page 1-----------------\n",
    "AANVULLEND PARITAIR COMITE VOOR DE\n",
    "WERKLIEDEN\n",
    "COLLECTIEVE ARBEIDSOVEREENKOMST VAN 7\n",
    "DECEMBER 2021\n",
    "VRIJSTELLING VAN DE VERPLICHTING VAN\n",
    "AANGEPASTE BESCHIKBAARHEID 2023 - 2024\n",
    "HOOFDSTUK - TOEPASSINGSGEBIED\n",
    "ART. 1\n",
    "$ 1\n",
    "Deze collectieve arbeidsovereenkomst is van toepas-\n",
    "sing op de werkgevers en arbeiders van de onderne-\n",
    "mingen die tot de bevoegdheid van het Aanvullend Pa-\n",
    "ritair Comité voor de werklieden behoren.\n",
    "§2.\n",
    "Onderarbeiderswordt verstaan de mannelijke en\n",
    "vrouwelijke arbeiders.\n",
    "HOOFDSTUK II - DRAAGWIJDTE VAN DE OVER-\n",
    "EENKOMST\n",
    "ART. 2\n",
    "81.\n",
    "Deze collectieve arbeidsovereenkomst wordt gesloten\n",
    "om een vrijstelling toe te passen van de verplichting\n",
    "wen aangepaste beschikbaarheid ter uitvoering van\n",
    "het sociaal akkoord in het kader van de interprofessi-\n",
    "onele onderhandelingen voor de periode 2021-2022.\n",
    "Deze regeling wordt georganiseerd voor de geldig-\n",
    "heidsduur van deze collectieve arbeidsovereenkomst\n",
    "door:\n",
    "- de collectieve arbeidsovereenkomst nr. 155 van\n",
    "de Nationale Arbeidsraad van 15 juli 2021 tot\n",
    "vaststelling, voor 2023-2024, van de voorwaar-\n",
    "den voor de toekenning van de vrijstelling van de\n",
    "verplichting we.n aangepaste beschikbaarheid\n",
    "voor oudere werknemers die worden ontslagen\n",
    "voor 1 juli 2023 in het raam van een stelsel van\n",
    "werkloosheid met bedrijfstoeslag, die 20 jaar heb-\n",
    "ben gewerkt in een regeling van nachtarbeid, die\n",
    "hebben gewerkt in een zwaar beroep of tewerk-\n",
    "gesteld werden in het bouwbedrijf en arbeidson-\n",
    "geschikt zijn, die hebben gewerkt in een zwaar\n",
    "beroep en 35 jaar beroepsverleden aantonen of\n",
    "een lange loopbaan hebben, of die tewerkgesteld\n",
    "waren in een onderneming in moeilijkheden of in\n",
    "herstructurering (nr. 166.894/CO)\n",
    "\n",
    "\f\"\"\""
   ]
  },
  {
   "cell_type": "code",
   "execution_count": 54,
   "metadata": {},
   "outputs": [
    {
     "data": {
      "text/plain": [
       "array([[0, 1]])"
      ]
     },
     "execution_count": 54,
     "metadata": {},
     "output_type": "execute_result"
    }
   ],
   "source": [
    "predicted_label =joblib.load('label.pkl').predict([txt])\n",
    "predicted_label\n",
    "\n"
   ]
  },
  {
   "cell_type": "code",
   "execution_count": null,
   "metadata": {},
   "outputs": [],
   "source": []
  }
 ],
 "metadata": {
  "kernelspec": {
   "display_name": "Python 3.7.15 ('kpmg_env')",
   "language": "python",
   "name": "python3"
  },
  "language_info": {
   "codemirror_mode": {
    "name": "ipython",
    "version": 3
   },
   "file_extension": ".py",
   "mimetype": "text/x-python",
   "name": "python",
   "nbconvert_exporter": "python",
   "pygments_lexer": "ipython3",
   "version": "3.7.15"
  },
  "orig_nbformat": 4,
  "vscode": {
   "interpreter": {
    "hash": "58b824ef02c014b9ba1f746a54d1cb2c20560832d80e4defb13e5bf446787b0e"
   }
  }
 },
 "nbformat": 4,
 "nbformat_minor": 2
}
